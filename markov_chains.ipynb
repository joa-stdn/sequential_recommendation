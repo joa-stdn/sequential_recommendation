{
  "nbformat": 4,
  "nbformat_minor": 0,
  "metadata": {
    "colab": {
      "provenance": []
    },
    "kernelspec": {
      "name": "python3",
      "display_name": "Python 3"
    },
    "language_info": {
      "name": "python"
    },
    "accelerator": "GPU"
  },
  "cells": [
    {
      "cell_type": "markdown",
      "metadata": {
        "id": "IxWaR5U752_J"
      },
      "source": [
        "# Deep Markov Chains"
      ]
    },
    {
      "cell_type": "code",
      "metadata": {
        "colab": {
          "base_uri": "https://localhost:8080/"
        },
        "id": "KI_8zhfHCOWE",
        "outputId": "1d52190c-3da8-42d3-cee0-4229f5c63819"
      },
      "source": [
        "from google.colab import drive\n",
        "drive.mount('/content/drive')"
      ],
      "execution_count": null,
      "outputs": [
        {
          "output_type": "stream",
          "text": [
            "Mounted at /content/drive\n"
          ],
          "name": "stdout"
        }
      ]
    },
    {
      "cell_type": "markdown",
      "metadata": {
        "id": "JA6qTUm1yAk5"
      },
      "source": [
        "The goal of this notebook is to implement a recommendation method based on $k$ neural networks and an underlying Markov chain with memory."
      ]
    },
    {
      "cell_type": "code",
      "metadata": {
        "id": "sfZ0Z8xz50Rs"
      },
      "source": [
        "from keras.layers import Dense, Activation, Input, Embedding\n",
        "from keras.models import load_model, Model\n",
        "from keras.utils import Sequence\n",
        "from keras.backend import sum\n",
        "\n",
        "import matplotlib.pyplot as plt\n",
        "import csv\n",
        "import math\n",
        "import numpy as np\n",
        "import random"
      ],
      "execution_count": null,
      "outputs": []
    },
    {
      "cell_type": "markdown",
      "metadata": {
        "id": "RGnWHOk5yKdj"
      },
      "source": [
        "## Architecture"
      ]
    },
    {
      "cell_type": "code",
      "metadata": {
        "id": "fuumXoJf6RIC"
      },
      "source": [
        "# Nombre de valeurs dans le dictionnaire + la valeur vide\n",
        "d = 14370 + 1 # 1 catégories supplémentaires : une <EOS>\n",
        "# Taille de l'input\n",
        "Tx = 64\n",
        "# Taille de l'output\n",
        "Ty = 16\n",
        "# Batch Size\n",
        "m = 8192\n",
        "# Dimension de l'embedding\n",
        "n_e = 1024\n",
        "\n",
        "l = [1, 2, 3, 4, 8, 16, 32, 64]"
      ],
      "execution_count": null,
      "outputs": []
    },
    {
      "cell_type": "markdown",
      "metadata": {
        "id": "DeHgyabAyMUT"
      },
      "source": [
        "The architecture aims to be as simple as possible. We start by passing the $k$ inputs through the embedding of dimension n_e before summing them and passing them through a Softmax layer."
      ]
    },
    {
      "cell_type": "code",
      "metadata": {
        "id": "UxGU3bIW6ipR"
      },
      "source": [
        "def getDeepMarkovChain(k = 2):\n",
        "  inpt = Input(shape=(k))\n",
        "  x = Embedding(d , n_e)(inpt)\n",
        "  x = sum(x , axis = 1, keepdims=False)\n",
        "  outpt = Dense(d , activation=\"softmax\")(x)\n",
        "  model = Model(inputs = inpt, outputs = outpt)\n",
        "  return model\n"
      ],
      "execution_count": null,
      "outputs": []
    },
    {
      "cell_type": "code",
      "metadata": {
        "colab": {
          "base_uri": "https://localhost:8080/"
        },
        "id": "bEaEi90_8juG",
        "outputId": "02503ba1-2d5b-4d4b-b97f-6761cad57678"
      },
      "source": [
        "model = getDeepMarkovChain(k=64)\n",
        "model.compile(optimizer=\"adam\", loss=\"sparse_categorical_crossentropy\", metrics= \"accuracy\")\n",
        "model.summary()\n",
        "model.save(\"/content/drive/MyDrive/PSC Recommandation séquentielle/Modèles/Chaînes de Markov/DeepChain/Model64\")"
      ],
      "execution_count": null,
      "outputs": [
        {
          "output_type": "stream",
          "text": [
            "Model: \"model\"\n",
            "_________________________________________________________________\n",
            "Layer (type)                 Output Shape              Param #   \n",
            "=================================================================\n",
            "input_1 (InputLayer)         [(None, 64)]              0         \n",
            "_________________________________________________________________\n",
            "embedding (Embedding)        (None, 64, 1024)          14715904  \n",
            "_________________________________________________________________\n",
            "tf.math.reduce_sum (TFOpLamb (None, 1024)              0         \n",
            "_________________________________________________________________\n",
            "dense (Dense)                (None, 14371)             14730275  \n",
            "=================================================================\n",
            "Total params: 29,446,179\n",
            "Trainable params: 29,446,179\n",
            "Non-trainable params: 0\n",
            "_________________________________________________________________\n",
            "INFO:tensorflow:Assets written to: /content/drive/MyDrive/PSC Recommandation séquentielle/Modèles/Chaînes de Markov/DeepChain/Model64/assets\n"
          ],
          "name": "stdout"
        }
      ]
    },
    {
      "cell_type": "code",
      "metadata": {
        "id": "foB4Wt698nxs"
      },
      "source": [
        "class DataGenerator(Sequence):\n",
        "  def __init__(self , nb_lines, X_path, Y_path , k):\n",
        "    self.X_path = X_path\n",
        "    self.X_reader = csv.reader(open(folder + X_path , \"r\"))\n",
        "    self.Y_path = Y_path\n",
        "    self.Y_reader = csv.reader(open(folder + Y_path , \"r\"))\n",
        "    self.nb_lines = nb_lines\n",
        "    self.k = k\n",
        "\n",
        "  def __len__(self):\n",
        "    return math.ceil(self.nb_lines/m)\n",
        "\n",
        "  def __getitem__(self, idx):\n",
        "    X1 = []\n",
        "    Y = []\n",
        "    for i in range(m):\n",
        "      row = self.getNextSample()\n",
        "      r = random.randrange(0 , Tx+Ty-self.k)\n",
        "      x = [int(j) for j in row[r:r+self.k]]\n",
        "      y = [int(row[r+self.k])]\n",
        "      X1.append(x)\n",
        "      Y.append(y)\n",
        "    X1 = np.array(X1)\n",
        "    return np.array(X1) , np.array(Y)\n",
        "\n",
        "  def getNextSample(self):\n",
        "    x = next(self.X_reader , None)\n",
        "    y = next(self.Y_reader , None)\n",
        "    if x is None:\n",
        "      self.X_reader = csv.reader(open(folder + self.X_path , \"r\"))\n",
        "      self.Y_reader = csv.reader(open(folder + self.Y_path , \"r\"))\n",
        "      x = next(self.X_reader , None)\n",
        "      y = next(self.Y_reader , None)\n",
        "    return x+y"
      ],
      "execution_count": null,
      "outputs": []
    },
    {
      "cell_type": "code",
      "source": [
        "for k in l:\n",
        "  model = load_model(\"/content/drive/MyDrive/PSC Recommandation séquentielle/Modèles/Chaînes de Markov/DeepChain/Model\" + str(k))\n",
        "  model.compile(optimizer=\"adam\", loss=\"sparse_categorical_crossentropy\", metrics= \"accuracy\")\n",
        "  train_gen = DataGenerator(3705954\n",
        "                          , \"s_X_train.csv\"\n",
        "                          ,\"s_Y_train.csv\" ,\n",
        "                          k)\n",
        "  model.fit(train_gen , epochs=5, verbose = 1)\n",
        "  model.save(\"/content/drive/MyDrive/PSC Recommandation séquentielle/Modèles/Chaînes de Markov/DeepChain/Model\" + str(k))\n"
      ],
      "metadata": {
        "id": "n-Aw0h2NbcAz"
      },
      "execution_count": null,
      "outputs": []
    },
    {
      "cell_type": "code",
      "source": [
        "train_gen = DataGenerator(3705954\n",
        "                          , \"s_X_train.csv\"\n",
        "                          ,\"s_Y_train.csv\" ,\n",
        "                          64)\n",
        "model.fit(train_gen , epochs=10, verbose = 1)\n",
        "\n",
        "model.save(\"/content/drive/MyDrive/PSC Recommandation séquentielle/Modèles/Chaînes de Markov/DeepChain/Model64\")"
      ],
      "metadata": {
        "id": "2M1wI09jbdMr"
      },
      "execution_count": null,
      "outputs": []
    },
    {
      "cell_type": "markdown",
      "metadata": {
        "id": "79XoY8RewJn3"
      },
      "source": [
        "## Prediction"
      ]
    },
    {
      "cell_type": "code",
      "metadata": {
        "id": "3K7XBss6-8sE"
      },
      "source": [
        "ModelTable = {}\n",
        "def loadModel(l):\n",
        "  modelpath = \"/content/drive/MyDrive/PSC Recommandation séquentielle/Modèles/Chaînes de Markov/DeepChain/Model\"\n",
        "  for i in l:\n",
        "    ModelTable[i] = load_model(modelpath + str(i))\n"
      ],
      "execution_count": null,
      "outputs": []
    },
    {
      "cell_type": "code",
      "metadata": {
        "id": "QpVYmxsm0Ksx"
      },
      "source": [
        "def SimplePred(X , k):\n",
        "  x = X[len(X) - k : len(X)]\n",
        "  y = []\n",
        "  for i in range(Ty):\n",
        "    yhat = ModelTable[k](np.reshape(np.array(x) , (1 , k)))\n",
        "    i = np.argmax(yhat)\n",
        "    x.append(i)\n",
        "    y.append(i)\n",
        "    x = x[1:len(x)]\n",
        "  return y\n",
        "\n",
        "def verySimplePredict(X , k):\n",
        "  x = X[len(X) - k : len(X)]\n",
        "  yhat = np.array(ModelTable[k](np.reshape(np.array(x) , (1 , k))))[0][:]\n",
        "  y = []\n",
        "  while len(y) < 16:\n",
        "    j = np.argmax(yhat)\n",
        "    yhat[j] = 0\n",
        "    if j != 0:\n",
        "      y.append(j)\n",
        "\n",
        "  return y\n"
      ],
      "execution_count": null,
      "outputs": []
    },
    {
      "cell_type": "code",
      "source": [
        "with open(folder + \"Y_dev.csv\" , \"r\") as csvfile:\n",
        "  r = csv.reader(csvfile)\n",
        "  for i in range(0) : next(r)\n",
        "  T = [int(i) for i in next(r)]\n",
        "  print(\"Séquence de référence: \")\n",
        "  print(T)\n",
        "\n",
        "for k in l:\n",
        "  with open(folder + \"X_dev.csv\" , \"r\") as csvfile:\n",
        "    r = csv.reader(csvfile)\n",
        "    for i in range(0) : next(r)\n",
        "    seq = next(r)\n",
        "    T = SimplePred([int(i) for i in seq] , k)\n",
        "    print(\"Séquence inférée pour k = \" + str(k) + \" :\")\n",
        "    print(T)\n",
        "    T = verySimplePredict([int(i) for i in seq] , k)\n",
        "    print(\"k meilleurs candidats pour k = \" + str(k) + \" :\")\n",
        "    print(T)"
      ],
      "metadata": {
        "id": "RhpfSfWFbAvT"
      },
      "execution_count": null,
      "outputs": []
    },
    {
      "cell_type": "code",
      "metadata": {
        "id": "U2ayVh0b2dA8"
      },
      "source": [
        "def sumPred(X , l):\n",
        "  x = X\n",
        "  y = []\n",
        "  for i in range(Ty):\n",
        "    yhat = np.zeros((1 , d))\n",
        "    for k in l:\n",
        "      yhat += ModelTable[k](np.reshape(np.array(x[len(x) - k : len(x)]) , (1 , k)))\n",
        "    i = np.argmax(yhat)\n",
        "    x.append(i)\n",
        "    y.append(i)\n",
        "  return y"
      ],
      "execution_count": null,
      "outputs": []
    },
    {
      "cell_type": "code",
      "source": [
        "with open(folder + \"Y_dev.csv\" , \"r\") as csvfile:\n",
        "  r = csv.reader(csvfile)\n",
        "  for i in range(0) : next(r)\n",
        "  T = [int(i) for i in next(r)]\n",
        "  print(\"Séquence de référence: \")\n",
        "  print(T)\n",
        "\n",
        "with open(folder + \"X_dev.csv\" , \"r\") as csvfile:\n",
        "  r = csv.reader(csvfile)\n",
        "  for i in range(0) : next(r)\n",
        "  seq = next(r)\n",
        "  T = sumPred([int(i) for i in seq] , l)\n",
        "  print(\"Séquence inférée pour avec la somme des estimateurs :\")\n",
        "  print(T)"
      ],
      "metadata": {
        "id": "MrQ47ROIbC36"
      },
      "execution_count": null,
      "outputs": []
    },
    {
      "cell_type": "code",
      "metadata": {
        "id": "rtI3Vdhf8gpC"
      },
      "source": [
        "def verySimpleSumPredict(X , l):\n",
        "  x = X\n",
        "  yhat = np.zeros((d))\n",
        "  for k in l:\n",
        "    yhat += np.array(ModelTable[k](np.reshape(np.array(x[len(x)-k : len(x)]) , (1 , k))))[0][:]\n",
        "  y = []\n",
        "  while len(y) < 16:\n",
        "    j = np.argmax(yhat)\n",
        "    yhat[j] = 0\n",
        "    if j != 0:\n",
        "      y.append(j)\n",
        "\n",
        "  return y"
      ],
      "execution_count": null,
      "outputs": []
    },
    {
      "cell_type": "code",
      "source": [
        "with open(folder + \"Y_dev.csv\" , \"r\") as csvfile:\n",
        "  r = csv.reader(csvfile)\n",
        "  for i in range(0) : next(r)\n",
        "  T = [int(i) for i in next(r)]\n",
        "  print(\"Séquence de référence: \")\n",
        "  print(T)\n",
        "\n",
        "with open(folder + \"X_dev.csv\" , \"r\") as csvfile:\n",
        "  r = csv.reader(csvfile)\n",
        "  for i in range(0) : next(r)\n",
        "  seq = next(r)\n",
        "  T = verySimpleSumPredict([int(i) for i in seq] , l)\n",
        "  print(\"k meilleurs pour avec la somme des estimateurs :\")\n",
        "  print(T)"
      ],
      "metadata": {
        "id": "DI7f7YzlbEUi"
      },
      "execution_count": null,
      "outputs": []
    },
    {
      "cell_type": "code",
      "metadata": {
        "id": "YhU-ZQcf98ln"
      },
      "source": [
        "def predWithoutRedundance(X , k):\n",
        "  x = X[len(X) - k : len(X)]\n",
        "  y = []\n",
        "  for i in range(Ty):\n",
        "    yhat = np.array(ModelTable[k](np.reshape(np.array(x) , (1 , k))))\n",
        "    i = np.argmax(yhat)\n",
        "    while (i in y or i == 0):\n",
        "      yhat[0][i] = 0\n",
        "      i = np.argmax(yhat)\n",
        "    x.append(i)\n",
        "    y.append(i)\n",
        "    x = x[1:len(x)]\n",
        "  return y"
      ],
      "execution_count": null,
      "outputs": []
    },
    {
      "cell_type": "code",
      "source": [
        "with open(folder + \"Y_dev.csv\" , \"r\") as csvfile:\n",
        "  r = csv.reader(csvfile)\n",
        "  for i in range(0) : next(r)\n",
        "  T = [int(i) for i in next(r)]\n",
        "  print(\"Séquence de référence: \")\n",
        "  print(T)\n",
        "\n",
        "for k in l:\n",
        "  with open(folder + \"X_dev.csv\" , \"r\") as csvfile:\n",
        "    r = csv.reader(csvfile)\n",
        "    for i in range(0) : next(r)\n",
        "    seq = next(r)\n",
        "    T = predWithoutRedundance([int(i) for i in seq] , k)\n",
        "    print(\"Séquence inférée sans redondance pour k = \" + str(k) + \" :\")\n",
        "    print(T)"
      ],
      "metadata": {
        "id": "R5kQfBa6bF2K"
      },
      "execution_count": null,
      "outputs": []
    },
    {
      "cell_type": "code",
      "metadata": {
        "id": "xq8tvkMtAN4u"
      },
      "source": [
        "def sumPredWithoutRedundance(X , l):\n",
        "  x = X\n",
        "  y = []\n",
        "  for i in range(Ty):\n",
        "    yhat = np.zeros((1,d))\n",
        "    for k in l:\n",
        "      yhat += np.array(ModelTable[k](np.reshape(np.array(x[len(x) - k : len(x)]) , (1 , k))))\n",
        "    i = np.argmax(yhat)\n",
        "    while (i in y or i == 0):\n",
        "      yhat[0][i] = 0\n",
        "      i = np.argmax(yhat)\n",
        "    x.append(i)\n",
        "    y.append(i)\n",
        "    x = x[1:len(x)]\n",
        "  return y"
      ],
      "execution_count": null,
      "outputs": []
    },
    {
      "cell_type": "code",
      "source": [
        "with open(folder + \"Y_dev.csv\" , \"r\") as csvfile:\n",
        "  r = csv.reader(csvfile)\n",
        "  for i in range(0) : next(r)\n",
        "  T = [int(i) for i in next(r)]\n",
        "  print(\"Séquence de référence: \")\n",
        "  print(T)\n",
        "\n",
        "with open(folder + \"X_dev.csv\" , \"r\") as csvfile:\n",
        "  r = csv.reader(csvfile)\n",
        "  for i in range(0) : next(r)\n",
        "  seq = next(r)\n",
        "  T = sumPredWithoutRedundance([int(i) for i in seq] , l)\n",
        "  print(\"Séquence inférée sans redondance pour avec la somme des estimateurs :\")\n",
        "  print(T)"
      ],
      "metadata": {
        "id": "QwlKtzJNbHgL"
      },
      "execution_count": null,
      "outputs": []
    },
    {
      "cell_type": "markdown",
      "metadata": {
        "id": "pKejnYgVmyzs"
      },
      "source": [
        "## Comparing the accuracies of the different methods"
      ]
    },
    {
      "cell_type": "code",
      "metadata": {
        "id": "IW4ec7L4A9Fg"
      },
      "source": [
        "def getUnorderedAccuracy(method):\n",
        "  with open(folder + \"s_X_dev.csv\" , \"r\") as csvfile:\n",
        "    r1 = csv.reader(csvfile)\n",
        "    r2 = csv.reader(open(folder + \"s_Y_dev.csv\" , \"r\"))\n",
        "    counteq = 0\n",
        "    nlines = 0\n",
        "    for i in range(1000):\n",
        "      nlines += 1\n",
        "      y = [int(i) for i in next(r2)]\n",
        "      y_hat = method([int(i) for i in next(r1)])\n",
        "      for i in range(16):\n",
        "        if y[i] in y_hat:\n",
        "          counteq += 1\n",
        "  return (counteq/((nlines)*16))"
      ],
      "execution_count": null,
      "outputs": []
    },
    {
      "cell_type": "code",
      "source": [
        "for k in l:\n",
        "  acc = getUnorderedAccuracy(lambda x : predWithoutRedundance(x , k))\n",
        "  print(\"Accuracy of prediction without redundance for k =\" + str(k) , \" :\")\n",
        "  print(acc)"
      ],
      "metadata": {
        "id": "Sga4z9GqbN0D"
      },
      "execution_count": null,
      "outputs": []
    },
    {
      "cell_type": "code",
      "source": [
        "kbestcandacc = {}\n",
        "for k in l:\n",
        "  kbestcandacc[k] = getUnorderedAccuracy(lambda x : verySimplePredict(x , k))\n",
        "  print(\"Accuracy of k best candidates for k =\" + str(k) , \" :\")\n",
        "  print(kbestcandacc[k])"
      ],
      "metadata": {
        "id": "HzGGY2u5bO0K"
      },
      "execution_count": null,
      "outputs": []
    },
    {
      "cell_type": "code",
      "source": [
        "acc = getUnorderedAccuracy(lambda x : sumPredWithoutRedundance(x , l))\n",
        "print(\"Accuracy pour la somme des estimateurs :\")\n",
        "print(acc)"
      ],
      "metadata": {
        "id": "8f45yOCMbQaL"
      },
      "execution_count": null,
      "outputs": []
    },
    {
      "cell_type": "code",
      "source": [
        "acc = getUnorderedAccuracy(lambda x : verySimpleSumPredict(x , l))\n",
        "print(\"Accuracy pour les k meilleurs candidats de la somme des estimateurs :\")\n",
        "print(acc)"
      ],
      "metadata": {
        "id": "nO2CMaUbbRb6"
      },
      "execution_count": null,
      "outputs": []
    },
    {
      "cell_type": "code",
      "metadata": {
        "id": "He0yCE402u0S"
      },
      "source": [
        "def sumKBestWithConvexWeights(X , l, w):\n",
        "  x = X\n",
        "  yhat = np.zeros((d))\n",
        "  for k in l:\n",
        "    yhat += w[k]*np.array(ModelTable[k](np.reshape(np.array(x[len(x)-k : len(x)]) , (1 , k))))[0][:]\n",
        "  y = []\n",
        "  while len(y) < 16:\n",
        "    j = np.argmax(yhat)\n",
        "    yhat[j] = 0\n",
        "    if j != 0:\n",
        "      y.append(j)\n",
        "\n",
        "  return y"
      ],
      "execution_count": null,
      "outputs": []
    },
    {
      "cell_type": "code",
      "source": [
        "with open(folder + \"Y_dev.csv\" , \"r\") as csvfile:\n",
        "  r = csv.reader(csvfile)\n",
        "  for i in range(0) : next(r)\n",
        "  T = [int(i) for i in next(r)]\n",
        "  print(\"Séquence de référence: \")\n",
        "  print(T)\n",
        "\n",
        "with open(folder + \"X_dev.csv\" , \"r\") as csvfile:\n",
        "  r = csv.reader(csvfile)\n",
        "  for i in range(0) : next(r)\n",
        "  seq = next(r)\n",
        "  T = sumKBestWithConvexWeights([int(i) for i in seq] , l , kbestcandacc)\n",
        "  print(\"k meilleurs pour avec la somme des estimateurs :\")\n",
        "  print(T)"
      ],
      "metadata": {
        "id": "WXyMJ10WbTBr"
      },
      "execution_count": null,
      "outputs": []
    },
    {
      "cell_type": "code",
      "source": [
        "acc = getUnorderedAccuracy(lambda x : sumKBestWithConvexWeights(x , l, kbestcandacc))\n",
        "print(\"Accuracy pour les k meilleurs candidats de la somme des estimateurs :\")\n",
        "print(acc)"
      ],
      "metadata": {
        "id": "XFxlnPUdbUK7"
      },
      "execution_count": null,
      "outputs": []
    },
    {
      "cell_type": "code",
      "metadata": {
        "id": "BQEcFsTN34hP"
      },
      "source": [
        "def getArbitraryConvexWeights(l):\n",
        "  weights = {}\n",
        "  for k in l:\n",
        "    weights[k] = bestweights[k] + 0.02*random.random()\n",
        "  return weights"
      ],
      "execution_count": null,
      "outputs": []
    }
  ]
}